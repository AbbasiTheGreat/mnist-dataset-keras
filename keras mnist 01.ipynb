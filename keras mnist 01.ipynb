{
 "cells": [
  {
   "cell_type": "code",
   "execution_count": 6,
   "id": "e910818e-b108-4678-91e5-f99b178c9044",
   "metadata": {},
   "outputs": [],
   "source": [
    "import numpy\n",
    "numpy.random.seed(1337) #for experiment reproductibility"
   ]
  },
  {
   "cell_type": "code",
   "execution_count": 7,
   "id": "0ebbb76b-7b4a-4c3f-a575-9ea18331600b",
   "metadata": {},
   "outputs": [],
   "source": [
    "import keras\n",
    "import tensorflow\n",
    "from tensorflow.keras.datasets import mnist\n",
    "from tensorflow.keras.models import Sequential  #importing sequential model\n",
    "from tensorflow.keras.layers import Dense     # importing dense layer\n",
    "from tensorflow.keras.optimizers import SGD    #importint Stochastic Gradient Descent Optimizer\n",
    "import warnings\n",
    "warnings.filterwarnings('ignore')\n",
    "import os\n",
    "import datetime"
   ]
  },
  {
   "cell_type": "code",
   "execution_count": 8,
   "id": "3cf8c145-9337-46d4-a6f3-b37988c1c534",
   "metadata": {},
   "outputs": [],
   "source": [
    "num_classes = 10  #total classes in mnist dataset\n",
    "batch_size = 128  #dataset size over each iteration\n",
    "epochs = 20         # total iterations"
   ]
  },
  {
   "cell_type": "code",
   "execution_count": 9,
   "id": "0039a731-0aa1-4ac2-953a-daf39042c536",
   "metadata": {},
   "outputs": [],
   "source": [
    "(x_train , y_train) , (x_test , y_test) = mnist.load_data()"
   ]
  },
  {
   "cell_type": "code",
   "execution_count": 10,
   "id": "351de14d-462f-4a25-aaac-83563e0cd906",
   "metadata": {},
   "outputs": [
    {
     "name": "stdout",
     "output_type": "stream",
     "text": [
      "(60000, 28, 28) (60000,) (10000, 28, 28) (10000,)\n"
     ]
    }
   ],
   "source": [
    "print(x_train.shape , y_train.shape , x_test.shape , y_test.shape)"
   ]
  },
  {
   "cell_type": "code",
   "execution_count": 11,
   "id": "3cf14b03-d509-453c-888f-a1c1ce5bc256",
   "metadata": {},
   "outputs": [],
   "source": [
    "x_train = x_train.reshape(60000 , 784)  # 28*28 = 784  we needed to convert it to the single flat tensor\n",
    "x_test = x_test.reshape(10000 , 784)  # 28*28(image size) = 784  we needed to convert it to the single flat tensor\n",
    "\n",
    "x_train = x_train.astype('float32')\n",
    "x_test = x_test.astype('float32')\n",
    "\n",
    "x_train /= 255   # 0..255(pixel values) -->  0..1 normalizing the data\n",
    "x_test /= 255  \n"
   ]
  },
  {
   "cell_type": "code",
   "execution_count": 12,
   "id": "8eee9bc6-6b8d-4a5e-a349-9cf798f7d03b",
   "metadata": {},
   "outputs": [
    {
     "name": "stdout",
     "output_type": "stream",
     "text": [
      "60000 train samples\n",
      "10000 test samples\n"
     ]
    }
   ],
   "source": [
    "print(x_train.shape[0] , 'train samples')\n",
    "print (x_test.shape[0], 'test samples') "
   ]
  },
  {
   "cell_type": "code",
   "execution_count": 13,
   "id": "dae2c251-0250-4bac-95f6-340c4ed85c07",
   "metadata": {},
   "outputs": [
    {
     "name": "stdout",
     "output_type": "stream",
     "text": [
      "(60000, 784)\n",
      "(60000,)\n"
     ]
    }
   ],
   "source": [
    "print(x_train.shape)\n",
    "print(y_train.shape)"
   ]
  },
  {
   "cell_type": "code",
   "execution_count": 14,
   "id": "17ec67c5-ace8-412f-a811-082ebc3a11fb",
   "metadata": {},
   "outputs": [
    {
     "data": {
      "text/plain": [
       "5"
      ]
     },
     "execution_count": 14,
     "metadata": {},
     "output_type": "execute_result"
    }
   ],
   "source": [
    "y_train[0]   # label at 1st index"
   ]
  },
  {
   "cell_type": "code",
   "execution_count": 15,
   "id": "e546e505-f191-43e3-b946-4d1dc3a19026",
   "metadata": {},
   "outputs": [],
   "source": [
    "#convert class vectors to binary class matrices  e.g 5 -->[0,0,0,0,1,0,0,0,0,0]\n",
    "#called one hot encoding                                          5th index set to 1\n",
    "y_train = tensorflow.keras.utils.to_categorical(y_train , num_classes)\n",
    "y_test = tensorflow.keras.utils.to_categorical(y_test , num_classes)"
   ]
  },
  {
   "cell_type": "code",
   "execution_count": 16,
   "id": "7ae89083-010d-4ed5-99ae-7ec2eafa486a",
   "metadata": {},
   "outputs": [
    {
     "data": {
      "text/plain": [
       "array([0., 0., 0., 0., 0., 1., 0., 0., 0., 0.])"
      ]
     },
     "execution_count": 16,
     "metadata": {},
     "output_type": "execute_result"
    }
   ],
   "source": [
    "y_train[0]  # now this is a onehot vector"
   ]
  },
  {
   "cell_type": "markdown",
   "id": "f80c737f-cdeb-4120-8b27-29652090683c",
   "metadata": {},
   "source": [
    "# Testing and Training"
   ]
  },
  {
   "cell_type": "code",
   "execution_count": 17,
   "id": "c20b49d3-715e-43c1-87d3-820bbb1ac885",
   "metadata": {},
   "outputs": [],
   "source": [
    "model = Sequential()"
   ]
  },
  {
   "cell_type": "code",
   "execution_count": 18,
   "id": "f8e0ede5-e26c-4a57-9d6b-ce0815f3bd79",
   "metadata": {},
   "outputs": [],
   "source": [
    "model.add( Dense(512 , activation = 'sigmoid' , input_shape = (784,))) #adding a dense layer to the model with 512 nodes with sigmoid activation function and input shape of data\n",
    "model.add( Dense(512 , activation = 'sigmoid'))\n",
    "model.add( Dense(512 , activation = 'sigmoid'))\n",
    "model.add( Dense(num_classes , activation = 'softmax')) # the last output layer with softmax function to pick highest value of class"
   ]
  },
  {
   "cell_type": "code",
   "execution_count": 19,
   "id": "ade778a8-6879-4e17-a4c2-f096abed121a",
   "metadata": {},
   "outputs": [
    {
     "data": {
      "text/html": [
       "<pre style=\"white-space:pre;overflow-x:auto;line-height:normal;font-family:Menlo,'DejaVu Sans Mono',consolas,'Courier New',monospace\"><span style=\"font-weight: bold\">Model: \"sequential\"</span>\n",
       "</pre>\n"
      ],
      "text/plain": [
       "\u001b[1mModel: \"sequential\"\u001b[0m\n"
      ]
     },
     "metadata": {},
     "output_type": "display_data"
    },
    {
     "data": {
      "text/html": [
       "<pre style=\"white-space:pre;overflow-x:auto;line-height:normal;font-family:Menlo,'DejaVu Sans Mono',consolas,'Courier New',monospace\">┏━━━━━━━━━━━━━━━━━━━━━━━━━━━━━━━━━━━━━━┳━━━━━━━━━━━━━━━━━━━━━━━━━━━━━┳━━━━━━━━━━━━━━━━━┓\n",
       "┃<span style=\"font-weight: bold\"> Layer (type)                         </span>┃<span style=\"font-weight: bold\"> Output Shape                </span>┃<span style=\"font-weight: bold\">         Param # </span>┃\n",
       "┡━━━━━━━━━━━━━━━━━━━━━━━━━━━━━━━━━━━━━━╇━━━━━━━━━━━━━━━━━━━━━━━━━━━━━╇━━━━━━━━━━━━━━━━━┩\n",
       "│ dense (<span style=\"color: #0087ff; text-decoration-color: #0087ff\">Dense</span>)                        │ (<span style=\"color: #00d7ff; text-decoration-color: #00d7ff\">None</span>, <span style=\"color: #00af00; text-decoration-color: #00af00\">512</span>)                 │         <span style=\"color: #00af00; text-decoration-color: #00af00\">401,920</span> │\n",
       "├──────────────────────────────────────┼─────────────────────────────┼─────────────────┤\n",
       "│ dense_1 (<span style=\"color: #0087ff; text-decoration-color: #0087ff\">Dense</span>)                      │ (<span style=\"color: #00d7ff; text-decoration-color: #00d7ff\">None</span>, <span style=\"color: #00af00; text-decoration-color: #00af00\">512</span>)                 │         <span style=\"color: #00af00; text-decoration-color: #00af00\">262,656</span> │\n",
       "├──────────────────────────────────────┼─────────────────────────────┼─────────────────┤\n",
       "│ dense_2 (<span style=\"color: #0087ff; text-decoration-color: #0087ff\">Dense</span>)                      │ (<span style=\"color: #00d7ff; text-decoration-color: #00d7ff\">None</span>, <span style=\"color: #00af00; text-decoration-color: #00af00\">512</span>)                 │         <span style=\"color: #00af00; text-decoration-color: #00af00\">262,656</span> │\n",
       "├──────────────────────────────────────┼─────────────────────────────┼─────────────────┤\n",
       "│ dense_3 (<span style=\"color: #0087ff; text-decoration-color: #0087ff\">Dense</span>)                      │ (<span style=\"color: #00d7ff; text-decoration-color: #00d7ff\">None</span>, <span style=\"color: #00af00; text-decoration-color: #00af00\">10</span>)                  │           <span style=\"color: #00af00; text-decoration-color: #00af00\">5,130</span> │\n",
       "└──────────────────────────────────────┴─────────────────────────────┴─────────────────┘\n",
       "</pre>\n"
      ],
      "text/plain": [
       "┏━━━━━━━━━━━━━━━━━━━━━━━━━━━━━━━━━━━━━━┳━━━━━━━━━━━━━━━━━━━━━━━━━━━━━┳━━━━━━━━━━━━━━━━━┓\n",
       "┃\u001b[1m \u001b[0m\u001b[1mLayer (type)                        \u001b[0m\u001b[1m \u001b[0m┃\u001b[1m \u001b[0m\u001b[1mOutput Shape               \u001b[0m\u001b[1m \u001b[0m┃\u001b[1m \u001b[0m\u001b[1m        Param #\u001b[0m\u001b[1m \u001b[0m┃\n",
       "┡━━━━━━━━━━━━━━━━━━━━━━━━━━━━━━━━━━━━━━╇━━━━━━━━━━━━━━━━━━━━━━━━━━━━━╇━━━━━━━━━━━━━━━━━┩\n",
       "│ dense (\u001b[38;5;33mDense\u001b[0m)                        │ (\u001b[38;5;45mNone\u001b[0m, \u001b[38;5;34m512\u001b[0m)                 │         \u001b[38;5;34m401,920\u001b[0m │\n",
       "├──────────────────────────────────────┼─────────────────────────────┼─────────────────┤\n",
       "│ dense_1 (\u001b[38;5;33mDense\u001b[0m)                      │ (\u001b[38;5;45mNone\u001b[0m, \u001b[38;5;34m512\u001b[0m)                 │         \u001b[38;5;34m262,656\u001b[0m │\n",
       "├──────────────────────────────────────┼─────────────────────────────┼─────────────────┤\n",
       "│ dense_2 (\u001b[38;5;33mDense\u001b[0m)                      │ (\u001b[38;5;45mNone\u001b[0m, \u001b[38;5;34m512\u001b[0m)                 │         \u001b[38;5;34m262,656\u001b[0m │\n",
       "├──────────────────────────────────────┼─────────────────────────────┼─────────────────┤\n",
       "│ dense_3 (\u001b[38;5;33mDense\u001b[0m)                      │ (\u001b[38;5;45mNone\u001b[0m, \u001b[38;5;34m10\u001b[0m)                  │           \u001b[38;5;34m5,130\u001b[0m │\n",
       "└──────────────────────────────────────┴─────────────────────────────┴─────────────────┘\n"
      ]
     },
     "metadata": {},
     "output_type": "display_data"
    },
    {
     "data": {
      "text/html": [
       "<pre style=\"white-space:pre;overflow-x:auto;line-height:normal;font-family:Menlo,'DejaVu Sans Mono',consolas,'Courier New',monospace\"><span style=\"font-weight: bold\"> Total params: </span><span style=\"color: #00af00; text-decoration-color: #00af00\">932,362</span> (3.56 MB)\n",
       "</pre>\n"
      ],
      "text/plain": [
       "\u001b[1m Total params: \u001b[0m\u001b[38;5;34m932,362\u001b[0m (3.56 MB)\n"
      ]
     },
     "metadata": {},
     "output_type": "display_data"
    },
    {
     "data": {
      "text/html": [
       "<pre style=\"white-space:pre;overflow-x:auto;line-height:normal;font-family:Menlo,'DejaVu Sans Mono',consolas,'Courier New',monospace\"><span style=\"font-weight: bold\"> Trainable params: </span><span style=\"color: #00af00; text-decoration-color: #00af00\">932,362</span> (3.56 MB)\n",
       "</pre>\n"
      ],
      "text/plain": [
       "\u001b[1m Trainable params: \u001b[0m\u001b[38;5;34m932,362\u001b[0m (3.56 MB)\n"
      ]
     },
     "metadata": {},
     "output_type": "display_data"
    },
    {
     "data": {
      "text/html": [
       "<pre style=\"white-space:pre;overflow-x:auto;line-height:normal;font-family:Menlo,'DejaVu Sans Mono',consolas,'Courier New',monospace\"><span style=\"font-weight: bold\"> Non-trainable params: </span><span style=\"color: #00af00; text-decoration-color: #00af00\">0</span> (0.00 B)\n",
       "</pre>\n"
      ],
      "text/plain": [
       "\u001b[1m Non-trainable params: \u001b[0m\u001b[38;5;34m0\u001b[0m (0.00 B)\n"
      ]
     },
     "metadata": {},
     "output_type": "display_data"
    }
   ],
   "source": [
    "# model summary\n",
    "model.summary()           # None = any number of datapoints can be feeded"
   ]
  },
  {
   "cell_type": "code",
   "execution_count": 20,
   "id": "456419da-e028-427e-b39e-1c1ea91d6dfb",
   "metadata": {},
   "outputs": [],
   "source": [
    "# heading to the model compilation\n",
    "model.compile(loss = 'binary_crossentropy' , optimizer=SGD() , metrics = ['accuracy'] )"
   ]
  },
  {
   "cell_type": "code",
   "execution_count": 21,
   "id": "51c12d72-8747-4f58-b32e-9b92e500089f",
   "metadata": {},
   "outputs": [],
   "source": [
    "#tensor board visualization\n",
    "log_dir = \"logs/fit/\" + datetime.datetime.now().strftime(\"%Y%m%d-%H%M%S\")\n",
    "if not os.path.exists(log_dir):\n",
    "    os.makedirs(log_dir)\n",
    "tensorboard_callback = tensorflow.keras.callbacks.TensorBoard(log_dir=log_dir , histogram_freq = 1)"
   ]
  },
  {
   "cell_type": "code",
   "execution_count": 22,
   "id": "744dbd9c-6f5f-4854-a172-ce950b5a5875",
   "metadata": {},
   "outputs": [
    {
     "name": "stdout",
     "output_type": "stream",
     "text": [
      "Epoch 1/20\n",
      "\u001b[1m469/469\u001b[0m \u001b[32m━━━━━━━━━━━━━━━━━━━━\u001b[0m\u001b[37m\u001b[0m \u001b[1m44s\u001b[0m 82ms/step - accuracy: 0.1053 - loss: 0.3766 - val_accuracy: 0.1135 - val_loss: 0.3249\n",
      "Epoch 2/20\n",
      "\u001b[1m469/469\u001b[0m \u001b[32m━━━━━━━━━━━━━━━━━━━━\u001b[0m\u001b[37m\u001b[0m \u001b[1m38s\u001b[0m 81ms/step - accuracy: 0.1122 - loss: 0.3249 - val_accuracy: 0.1135 - val_loss: 0.3248\n",
      "Epoch 3/20\n",
      "\u001b[1m469/469\u001b[0m \u001b[32m━━━━━━━━━━━━━━━━━━━━\u001b[0m\u001b[37m\u001b[0m \u001b[1m38s\u001b[0m 82ms/step - accuracy: 0.1111 - loss: 0.3248 - val_accuracy: 0.1135 - val_loss: 0.3247\n",
      "Epoch 4/20\n",
      "\u001b[1m469/469\u001b[0m \u001b[32m━━━━━━━━━━━━━━━━━━━━\u001b[0m\u001b[37m\u001b[0m \u001b[1m41s\u001b[0m 88ms/step - accuracy: 0.1110 - loss: 0.3248 - val_accuracy: 0.1135 - val_loss: 0.3247\n",
      "Epoch 5/20\n",
      "\u001b[1m469/469\u001b[0m \u001b[32m━━━━━━━━━━━━━━━━━━━━\u001b[0m\u001b[37m\u001b[0m \u001b[1m40s\u001b[0m 85ms/step - accuracy: 0.1194 - loss: 0.3247 - val_accuracy: 0.1135 - val_loss: 0.3246\n",
      "Epoch 6/20\n",
      "\u001b[1m469/469\u001b[0m \u001b[32m━━━━━━━━━━━━━━━━━━━━\u001b[0m\u001b[37m\u001b[0m \u001b[1m40s\u001b[0m 86ms/step - accuracy: 0.1128 - loss: 0.3246 - val_accuracy: 0.1135 - val_loss: 0.3247\n",
      "Epoch 7/20\n",
      "\u001b[1m469/469\u001b[0m \u001b[32m━━━━━━━━━━━━━━━━━━━━\u001b[0m\u001b[37m\u001b[0m \u001b[1m40s\u001b[0m 86ms/step - accuracy: 0.1121 - loss: 0.3246 - val_accuracy: 0.1135 - val_loss: 0.3245\n",
      "Epoch 8/20\n",
      "\u001b[1m469/469\u001b[0m \u001b[32m━━━━━━━━━━━━━━━━━━━━\u001b[0m\u001b[37m\u001b[0m \u001b[1m43s\u001b[0m 91ms/step - accuracy: 0.1133 - loss: 0.3245 - val_accuracy: 0.1135 - val_loss: 0.3245\n",
      "Epoch 9/20\n",
      "\u001b[1m469/469\u001b[0m \u001b[32m━━━━━━━━━━━━━━━━━━━━\u001b[0m\u001b[37m\u001b[0m \u001b[1m40s\u001b[0m 86ms/step - accuracy: 0.1149 - loss: 0.3245 - val_accuracy: 0.1135 - val_loss: 0.3244\n",
      "Epoch 10/20\n",
      "\u001b[1m469/469\u001b[0m \u001b[32m━━━━━━━━━━━━━━━━━━━━\u001b[0m\u001b[37m\u001b[0m \u001b[1m39s\u001b[0m 83ms/step - accuracy: 0.1176 - loss: 0.3245 - val_accuracy: 0.1135 - val_loss: 0.3244\n",
      "Epoch 11/20\n",
      "\u001b[1m469/469\u001b[0m \u001b[32m━━━━━━━━━━━━━━━━━━━━\u001b[0m\u001b[37m\u001b[0m \u001b[1m39s\u001b[0m 84ms/step - accuracy: 0.1120 - loss: 0.3244 - val_accuracy: 0.1135 - val_loss: 0.3243\n",
      "Epoch 12/20\n",
      "\u001b[1m469/469\u001b[0m \u001b[32m━━━━━━━━━━━━━━━━━━━━\u001b[0m\u001b[37m\u001b[0m \u001b[1m41s\u001b[0m 87ms/step - accuracy: 0.1123 - loss: 0.3243 - val_accuracy: 0.1135 - val_loss: 0.3243\n",
      "Epoch 13/20\n",
      "\u001b[1m469/469\u001b[0m \u001b[32m━━━━━━━━━━━━━━━━━━━━\u001b[0m\u001b[37m\u001b[0m \u001b[1m49s\u001b[0m 105ms/step - accuracy: 0.1127 - loss: 0.3243 - val_accuracy: 0.1135 - val_loss: 0.3242\n",
      "Epoch 14/20\n",
      "\u001b[1m469/469\u001b[0m \u001b[32m━━━━━━━━━━━━━━━━━━━━\u001b[0m\u001b[37m\u001b[0m \u001b[1m79s\u001b[0m 98ms/step - accuracy: 0.1134 - loss: 0.3242 - val_accuracy: 0.1135 - val_loss: 0.3242\n",
      "Epoch 15/20\n",
      "\u001b[1m469/469\u001b[0m \u001b[32m━━━━━━━━━━━━━━━━━━━━\u001b[0m\u001b[37m\u001b[0m \u001b[1m54s\u001b[0m 114ms/step - accuracy: 0.1150 - loss: 0.3242 - val_accuracy: 0.1135 - val_loss: 0.3241\n",
      "Epoch 16/20\n",
      "\u001b[1m469/469\u001b[0m \u001b[32m━━━━━━━━━━━━━━━━━━━━\u001b[0m\u001b[37m\u001b[0m \u001b[1m54s\u001b[0m 114ms/step - accuracy: 0.1118 - loss: 0.3241 - val_accuracy: 0.1156 - val_loss: 0.3241\n",
      "Epoch 17/20\n",
      "\u001b[1m469/469\u001b[0m \u001b[32m━━━━━━━━━━━━━━━━━━━━\u001b[0m\u001b[37m\u001b[0m \u001b[1m54s\u001b[0m 115ms/step - accuracy: 0.1157 - loss: 0.3241 - val_accuracy: 0.1135 - val_loss: 0.3240\n",
      "Epoch 18/20\n",
      "\u001b[1m469/469\u001b[0m \u001b[32m━━━━━━━━━━━━━━━━━━━━\u001b[0m\u001b[37m\u001b[0m \u001b[1m55s\u001b[0m 116ms/step - accuracy: 0.1308 - loss: 0.3240 - val_accuracy: 0.1135 - val_loss: 0.3239\n",
      "Epoch 19/20\n",
      "\u001b[1m469/469\u001b[0m \u001b[32m━━━━━━━━━━━━━━━━━━━━\u001b[0m\u001b[37m\u001b[0m \u001b[1m57s\u001b[0m 122ms/step - accuracy: 0.1125 - loss: 0.3240 - val_accuracy: 0.1135 - val_loss: 0.3239\n",
      "Epoch 20/20\n",
      "\u001b[1m469/469\u001b[0m \u001b[32m━━━━━━━━━━━━━━━━━━━━\u001b[0m\u001b[37m\u001b[0m \u001b[1m75s\u001b[0m 107ms/step - accuracy: 0.1222 - loss: 0.3239 - val_accuracy: 0.1135 - val_loss: 0.3238\n"
     ]
    }
   ],
   "source": [
    "# learning process\n",
    "history = model.fit(x_train , y_train , \n",
    "         batch_size = batch_size ,\n",
    "         epochs = epochs , \n",
    "          verbose = 1,\n",
    "         validation_data = (x_test , y_test),\n",
    "         callbacks =[tensorboard_callback] )"
   ]
  },
  {
   "cell_type": "code",
   "execution_count": 23,
   "id": "753e0b30-e511-48f6-9a3f-96fa12c3edf7",
   "metadata": {},
   "outputs": [
    {
     "name": "stdout",
     "output_type": "stream",
     "text": [
      "\u001b[1m313/313\u001b[0m \u001b[32m━━━━━━━━━━━━━━━━━━━━\u001b[0m\u001b[37m\u001b[0m \u001b[1m6s\u001b[0m 19ms/step - accuracy: 0.1160 - loss: 0.3238\n"
     ]
    }
   ],
   "source": [
    "#model evlaution\n",
    "score = model.evaluate(x_test , y_test)"
   ]
  },
  {
   "cell_type": "code",
   "execution_count": 24,
   "id": "aeba2b18-23d3-415b-b714-4e799d9b05f3",
   "metadata": {},
   "outputs": [
    {
     "name": "stdout",
     "output_type": "stream",
     "text": [
      "0.11349999904632568\n"
     ]
    }
   ],
   "source": [
    "#print the accuracy\n",
    "accuracy = score[1]\n",
    "print(accuracy)"
   ]
  },
  {
   "cell_type": "markdown",
   "id": "bba3654d-2d0f-4992-85d9-58161d37412d",
   "metadata": {},
   "source": [
    "# Visualization With Tensor Board"
   ]
  },
  {
   "cell_type": "code",
   "execution_count": 31,
   "id": "be1bfc2d-4b6a-4d2a-9487-0c6883439747",
   "metadata": {},
   "outputs": [
    {
     "name": "stdout",
     "output_type": "stream",
     "text": [
      "The tensorboard extension is already loaded. To reload it, use:\n",
      "  %reload_ext tensorboard\n"
     ]
    }
   ],
   "source": [
    "%load_ext tensorboard"
   ]
  },
  {
   "cell_type": "code",
   "execution_count": 33,
   "id": "62108825-35d5-422e-94e8-f0878b503bc6",
   "metadata": {},
   "outputs": [
    {
     "data": {
      "text/plain": [
       "Reusing TensorBoard on port 6006 (pid 3616), started 19:51:54 ago. (Use '!kill 3616' to kill it.)"
      ]
     },
     "metadata": {},
     "output_type": "display_data"
    },
    {
     "data": {
      "text/html": [
       "\n",
       "      <iframe id=\"tensorboard-frame-52ae9033f640ae8e\" width=\"100%\" height=\"800\" frameborder=\"0\">\n",
       "      </iframe>\n",
       "      <script>\n",
       "        (function() {\n",
       "          const frame = document.getElementById(\"tensorboard-frame-52ae9033f640ae8e\");\n",
       "          const url = new URL(\"/\", window.location);\n",
       "          const port = 6006;\n",
       "          if (port) {\n",
       "            url.port = port;\n",
       "          }\n",
       "          frame.src = url;\n",
       "        })();\n",
       "      </script>\n",
       "    "
      ],
      "text/plain": [
       "<IPython.core.display.HTML object>"
      ]
     },
     "metadata": {},
     "output_type": "display_data"
    }
   ],
   "source": [
    "%tensorboard --logdir logs/fit"
   ]
  },
  {
   "cell_type": "code",
   "execution_count": null,
   "id": "703b090d-7c10-4312-9c40-86a6ee0a7ad0",
   "metadata": {},
   "outputs": [],
   "source": []
  },
  {
   "cell_type": "code",
   "execution_count": null,
   "id": "8c3ef5c8-cb41-40d9-9884-40c486c7da7c",
   "metadata": {},
   "outputs": [],
   "source": []
  }
 ],
 "metadata": {
  "kernelspec": {
   "display_name": "Python 3 (ipykernel)",
   "language": "python",
   "name": "python3"
  },
  "language_info": {
   "codemirror_mode": {
    "name": "ipython",
    "version": 3
   },
   "file_extension": ".py",
   "mimetype": "text/x-python",
   "name": "python",
   "nbconvert_exporter": "python",
   "pygments_lexer": "ipython3",
   "version": "3.11.7"
  }
 },
 "nbformat": 4,
 "nbformat_minor": 5
}
